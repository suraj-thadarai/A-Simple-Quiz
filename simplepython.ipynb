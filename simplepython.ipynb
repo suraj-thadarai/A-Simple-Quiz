{
  "nbformat": 4,
  "nbformat_minor": 0,
  "metadata": {
    "colab": {
      "provenance": [],
      "authorship_tag": "ABX9TyN4dReDVWOca7Y0IojFLbZK",
      "include_colab_link": true
    },
    "kernelspec": {
      "name": "python3",
      "display_name": "Python 3"
    },
    "language_info": {
      "name": "python"
    }
  },
  "cells": [
    {
      "cell_type": "markdown",
      "metadata": {
        "id": "view-in-github",
        "colab_type": "text"
      },
      "source": [
        "<a href=\"https://colab.research.google.com/github/suraj-thadarai/A-Simple-Quiz/blob/main/simplepython.ipynb\" target=\"_parent\"><img src=\"https://colab.research.google.com/assets/colab-badge.svg\" alt=\"Open In Colab\"/></a>"
      ]
    },
    {
      "cell_type": "markdown",
      "source": [
        "I am learning how to share this notebook on github"
      ],
      "metadata": {
        "id": "F98Zyo-H0NQz"
      }
    },
    {
      "cell_type": "code",
      "execution_count": 1,
      "metadata": {
        "colab": {
          "base_uri": "https://localhost:8080/"
        },
        "id": "79gt2Xrb0DUo",
        "outputId": "140afcce-cf56-49fd-fc8f-beee6ea6d173"
      },
      "outputs": [
        {
          "output_type": "stream",
          "name": "stdout",
          "text": [
            "suraj thadarai\n"
          ]
        }
      ],
      "source": [
        "print('suraj thadarai')"
      ]
    }
  ]
}